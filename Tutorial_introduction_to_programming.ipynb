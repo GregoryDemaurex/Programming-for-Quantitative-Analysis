{
 "cells": [
  {
   "cell_type": "markdown",
   "metadata": {},
   "source": [
    "## What is Programming?\n",
    "The main idea of Programming is very simple. It is the action of asking a computer to solve a problem that is too difficult for us (human) to solve or that would just take too much time. In order to program successfully, we first need to identify our problem, then break it down in simple steps, and then communicate each of these steps to the computer in a language that it understands. If we do it correctly, the computer will be able to solve our problem faster and probably better than us! To understand the basic idea of Programming, we will take an example. \n",
    "\n",
    "### Our first Programming example\n",
    " Let's imagine that you want to find the biggest number from a list of numbers. If the list of numbers only has a small amount of numbers, it is not a big deal for you to find which of the numbers is the biggest. But if the list gets very big (for example with more than 100, or even 1000 numbers), it will take you much longer to find the biggest number. For this kind of problems, the computer is actually a great tool, because it can repeat many times the execution of a simple task in a short period of time without making any mistake! If we can tell our computer to check each numbers of the list and keep the biggest, it will be able to solve our problem much faster than we could ever do. In order to do that, there are already two challenges that we need to overcome.\n",
    "#### Challenge 1: Breaking the problem into simple steps\n",
    "The first challenge that we have is that our computer can only execute very simple tasks. It will not be able to find the biggest number of the list just by telling it to \"find the biggest number of the list\". We will need to create a _recipe_ that will tell it every little tasks it has to execute in order to find the biggest number of a list. This \"recipe\" is commonly called an __Algorithm__. The main difficulty while writing an algorithm is to seperate the complex problem you have into less complex problems until our computer can solve each of these problems by one simple task. We will go deeper into this topic later on in the chapter __Divide & Conquer__.\n",
    "#### Challenge 2: Coding\n",
    "The second challenge is that computers are no humans, so they do not understand our language (in this case english). Computers have their own languages, which are for example __Python__, __R__, __Java__, __HTML__ and many others. This is where __Coding__ comes along. If you want your computer to solve a problem for you, you need to tell it what to do in a language that it can understand. The action of translating an information from our human language to the language of the computer is called __Coding__.\n",
    "\n",
    "## What is a Program?\n",
    "Now that we understand what Programming means, we can understand what a Program is. To explain it simply, we can say that a Program is the result of our work as programmer. When we program, our goal is to create a piece of code (a set of instructions for the computer to execute) that solves our problem. This piece of code is called a Program. In our example, our Program will be a piece of code that can find the biggest number from any given list of numbers. Given an __input__ (which in our example would be a list of numbers), the programm will solve the problem and give the solution as an __output__ (which in our example would be the biggest number of the list). \n",
    "![](files/Tutorial_Schemes/Schema_Programme.PNG)\n",
    "### Combining Programs\n",
    "In complex problems, we usually need multiple programs to solve different parts of the problem we need to solve. It is more than common to have a programm inserted in another program, which will help to solve a bigger problem.\n",
    "![](files/Tutorial_Schemes/Schema_Programme2.PNG)"
   ]
  }
 ],
 "metadata": {
  "kernelspec": {
   "display_name": "Python 3",
   "language": "python",
   "name": "python3"
  },
  "language_info": {
   "codemirror_mode": {
    "name": "ipython",
    "version": 3
   },
   "file_extension": ".py",
   "mimetype": "text/x-python",
   "name": "python",
   "nbconvert_exporter": "python",
   "pygments_lexer": "ipython3",
   "version": "3.6.5"
  }
 },
 "nbformat": 4,
 "nbformat_minor": 2
}
